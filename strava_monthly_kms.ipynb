{
 "cells": [
  {
   "cell_type": "code",
   "execution_count": null,
   "id": "6d18e009",
   "metadata": {},
   "outputs": [],
   "source": [
    "strava_email = ''\n",
    "strava_password = ''"
   ]
  },
  {
   "cell_type": "markdown",
   "id": "83317dd1",
   "metadata": {},
   "source": [
    "# Sign-in on Strava"
   ]
  },
  {
   "cell_type": "code",
   "execution_count": null,
   "id": "e0fe89a4",
   "metadata": {},
   "outputs": [],
   "source": [
    "from selenium import webdriver\n",
    "from webdriver_manager.chrome import ChromeDriverManager\n",
    "from selenium.webdriver.common.keys import Keys"
   ]
  },
  {
   "cell_type": "code",
   "execution_count": null,
   "id": "930a62cc",
   "metadata": {},
   "outputs": [],
   "source": [
    "driver = webdriver.Chrome(ChromeDriverManager().install())\n",
    "driver.get(\"https://www.strava.com/login\")\n",
    "\n",
    "inputElement = driver.find_element_by_id(\"email\")\n",
    "inputElement.send_keys(strava_email)\n",
    "inputElement = driver.find_element_by_id(\"password\")\n",
    "inputElement.send_keys(strava_password)\n",
    "inputElement.send_keys(Keys.ENTER)"
   ]
  },
  {
   "cell_type": "markdown",
   "id": "88da1e92",
   "metadata": {},
   "source": [
    "# Defining function to get total kilometers recorded on Strava (run+ ...)"
   ]
  },
  {
   "cell_type": "code",
   "execution_count": null,
   "id": "4342816b",
   "metadata": {},
   "outputs": [],
   "source": [
    "def get_km_month (strava_id, month, year):\n",
    "    # Assuming you already sign-in on strava\n",
    "    url = \"https://www.strava.com/athletes/\"+str(strava_id) \n",
    "    driver.get(url)\n",
    "    strava_name = driver.find_elements_by_xpath('//h1[@class=\"text-title1 athlete-name\"]')[0].text\n",
    "    try:\n",
    "        driver.find_element_by_xpath('//a[@class=\"button btn-xs \" and contains(., \"Monthly\")]').click()\n",
    "        time.sleep(2)\n",
    "        url = \"https://www.strava.com/athletes/\"+str(strava_id) +\"#interval?interval=\"+str(year)+str(month).zfill(2)+\"&interval_type=month&chart_type=miles&year_offset=0\"\n",
    "        driver.get(url)\n",
    "        time.sleep(1)\n",
    "        elements = [item.text for item in driver.find_elements_by_css_selector(\"[id='interval-graph'] > ul:nth-of-type(1) > li\")]\n",
    "        total_km = elements[0]\n",
    "    except:\n",
    "        total_km = 0\n",
    "    \n",
    "    return [strava_id,month,strava_name,total_km]"
   ]
  },
  {
   "cell_type": "markdown",
   "id": "4f9569d7",
   "metadata": {},
   "source": [
    "# Checking kilometers recorded by Northwave colleagues"
   ]
  },
  {
   "cell_type": "code",
   "execution_count": null,
   "id": "5ee9c8e2",
   "metadata": {},
   "outputs": [],
   "source": [
    "import pandas as pd"
   ]
  },
  {
   "cell_type": "code",
   "execution_count": null,
   "id": "f054db5d",
   "metadata": {},
   "outputs": [],
   "source": [
    "df = pd.read_csv('nw_colleagues_strava.csv')"
   ]
  },
  {
   "cell_type": "code",
   "execution_count": null,
   "id": "57aa4f77",
   "metadata": {},
   "outputs": [],
   "source": [
    "month = 5\n",
    "year = 2022\n",
    "\n",
    "for strava_id in df['strava_id']:\n",
    "    print(get_km_month (strava_id, month, year))"
   ]
  }
 ],
 "metadata": {
  "kernelspec": {
   "display_name": "Python 3",
   "language": "python",
   "name": "python3"
  },
  "language_info": {
   "codemirror_mode": {
    "name": "ipython",
    "version": 3
   },
   "file_extension": ".py",
   "mimetype": "text/x-python",
   "name": "python",
   "nbconvert_exporter": "python",
   "pygments_lexer": "ipython3",
   "version": "3.9.12"
  }
 },
 "nbformat": 4,
 "nbformat_minor": 5
}
